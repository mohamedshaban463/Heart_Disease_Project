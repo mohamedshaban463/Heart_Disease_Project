{
 "cells": [
  {
   "cell_type": "code",
   "execution_count": null,
   "id": "b5389425",
   "metadata": {},
   "outputs": [],
   "source": [
    "import pandas as pd\n",
    "from sklearn.preprocessing import MinMaxScaler\n",
    "from sklearn.ensemble import RandomForestClassifier\n",
    "from sklearn.feature_selection import RFE, chi2, SelectKBest\n",
    "\n",
    "scaler_minmax = MinMaxScaler()\n",
    "X_minmax = scaler_minmax.fit_transform(df)\n",
    "\n",
    "rf = RandomForestClassifier(random_state=42)\n",
    "rf.fit(standardized_df, y.values.ravel())\n",
    "rf_importances = pd.Series(rf.feature_importances_, index=df.columns).sort_values(ascending=False)\n",
    "\n",
    "rfe = RFE(estimator=rf, n_features_to_select=8)\n",
    "rfe.fit(standardized_df, y.values.ravel())\n",
    "rfe_selected = df.columns[rfe.support_]\n",
    "\n",
    "chi2_selector = SelectKBest(score_func=chi2, k=8)\n",
    "chi2_selector.fit(X_minmax, y.values.ravel())\n",
    "chi2_scores = pd.Series(chi2_selector.scores_, index=df.columns).sort_values(ascending=False)\n",
    "\n",
    "final_features = list(set(rf_importances.head(8).index) |set(rfe_selected) |set(chi2_scores.head(8).index))\n",
    "\n",
    "print(\"Random Forest Importance:\\n\", rf_importances, \"\\n\")\n",
    "print(\"RFE Selected Features:\\n\", list(rfe_selected), \"\\n\")\n",
    "print(\"Chi-Square Scores:\\n\", chi2_scores, \"\\n\")\n",
    "print(\"Final Selected Features:\\n\", final_features)"
   ]
  }
 ],
 "metadata": {
  "language_info": {
   "name": "python"
  }
 },
 "nbformat": 4,
 "nbformat_minor": 5
}
