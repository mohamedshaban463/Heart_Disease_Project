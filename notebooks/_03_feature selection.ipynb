{
 "cells": [
  {
   "cell_type": "code",
   "execution_count": null,
   "id": "b5389425",
   "metadata": {},
   "outputs": [],
   "source": [
    "from data import standardized_df\n",
    "import pandas as pd\n",
    "from sklearn.preprocessing import MinMaxScaler\n",
    "from sklearn.ensemble import RandomForestClassifier\n",
    "from sklearn.feature_selection import RFE, chi2, SelectKBest\n",
    "\n",
    "scaler_minmax = MinMaxScaler()\n",
    "X_minmax = scaler_minmax.fit_transform(standardized_df)\n",
    "\n",
    "rf = RandomForestClassifier(random_state=42)\n",
    "rf.fit(standardized_df, y.values.ravel())\n",
    "rf_importances = pd.Series(rf.feature_importances_, index=standardized_df.columns).sort_values(ascending=False)\n",
    "\n",
    "rfe = RFE(estimator=rf, n_features_to_select=8)\n",
    "rfe.fit(standardized_df, y.values.ravel())\n",
    "rfe_selected = standardized_df.columns[rfe.support_]\n",
    "\n",
    "chi2_selector = SelectKBest(score_func=chi2, k=8)\n",
    "chi2_selector.fit(X_minmax, y.values.ravel())\n",
    "chi2_scores = pd.Series(chi2_selector.scores_, index=standardized_df.columns).sort_values(ascending=False)\n",
    "\n",
    "final_features = list(set(rf_importances.head(8).index) |set(rfe_selected) |set(chi2_scores.head(8).index))\n",
    "\n",
    "print(\"Random Forest Importance:\\n\", rf_importances, \"\\n\")\n",
    "print(\"RFE Selected Features:\\n\", list(rfe_selected), \"\\n\")\n",
    "print(\"Chi-Square Scores:\\n\", chi2_scores, \"\\n\")\n",
    "print(\"Final Selected Features:\\n\", final_features)"
   ]
  }
 ],
 "metadata": {
  "kernelspec": {
   "display_name": "venv (3.13.6)",
   "language": "python",
   "name": "python3"
  },
  "language_info": {
   "codemirror_mode": {
    "name": "ipython",
    "version": 3
   },
   "file_extension": ".py",
   "mimetype": "text/x-python",
   "name": "python",
   "nbconvert_exporter": "python",
   "pygments_lexer": "ipython3",
   "version": "3.13.6"
  }
 },
 "nbformat": 4,
 "nbformat_minor": 5
}
